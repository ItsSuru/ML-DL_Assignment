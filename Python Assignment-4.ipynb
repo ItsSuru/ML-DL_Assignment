{
 "cells": [
  {
   "cell_type": "markdown",
   "metadata": {},
   "source": [
    "\n",
    "=========================================================================================================================\n",
    "# Python Assignment-4\n",
    "========================================================================================================================="
   ]
  },
  {
   "cell_type": "markdown",
   "metadata": {},
   "source": [
    "#### 1.1 Write a Python Program(with class concepts) to find the area of the triangle using the below formula. \n",
    "#### area = (s*(s-a)*(s-b)*(s-c)) ** 0.5\n",
    "#### Function to take the length of the sides of triangle from user should be defined in the parent class and function to calculate the area should be defined in subclass."
   ]
  },
  {
   "cell_type": "code",
   "execution_count": 10,
   "metadata": {},
   "outputs": [
    {
     "name": "stdout",
     "output_type": "stream",
     "text": [
      "a=4\n",
      "b=5\n",
      "c=6\n",
      "area : 9.921567416492215\n"
     ]
    }
   ],
   "source": [
    "# area = (s*(s-a)*(s-b)*(s-c)) ** 0.5\n",
    "class poly:\n",
    "    def __init__(self,a,b,c):\n",
    "        self.a = float(a)\n",
    "        self.b = float(b)\n",
    "        self.c = float(c)\n",
    "a= int(input(\"a=\"))\n",
    "b= int(input(\"b=\"))\n",
    "c= int(input(\"c=\"))\n",
    "\n",
    "class triangle(poly):\n",
    "    def __init__(self,a,b,c):\n",
    "        super(triangle,self).__init__(a,b,c)\n",
    "\n",
    "    def get_area(self):\n",
    "        s = (a + b + c) / 2\n",
    "        return (s*(s-a)*(s-b)*(s-c)) ** 0.5        \n",
    "\n",
    "t = triangle(a,b,c)\n",
    "print(\"area : {}\".format(t.get_area()))"
   ]
  },
  {
   "cell_type": "markdown",
   "metadata": {},
   "source": [
    "=========================================================================================================================\n",
    "\n",
    "#### 1.2 Write a function filter_long_words() that takes a list of words and an integer n and returns the list of words that are longer than n."
   ]
  },
  {
   "cell_type": "code",
   "execution_count": 46,
   "metadata": {},
   "outputs": [
    {
     "name": "stdout",
     "output_type": "stream",
     "text": [
      "Enter words separated by spaces : Hi my name is swaraj I work at ineuron\n",
      "Minimum length of words to keep : 3\n",
      "Words longer than 3 are : name, swaraj, work, ineuron\n"
     ]
    }
   ],
   "source": [
    "def longwords(wordlist, length):\n",
    "    \n",
    "    return (word for word in wordlist if len(word) >= length)\n",
    "    \n",
    "\n",
    "def main():\n",
    "    words = input(\"Enter words separated by spaces : \").split()\n",
    "    length = int(input(\"Minimum length of words to keep : \"))\n",
    "    print(\"Words longer than {} are : {}\".format(length,\n",
    "          ', '.join(longwords(words, length))))\n",
    "    \n",
    "main()"
   ]
  },
  {
   "cell_type": "markdown",
   "metadata": {},
   "source": [
    "=========================================================================================================================\n",
    "#### 2.1 Write a Python program using function concept that maps list of words into a list of integers representing the lengths of the corresponding words.\n",
    "##### Hint: If a list [ ab,cde,erty] is passed on to the python function output should come as [2,3,4]. Here 2,3 and 4 are the lengths of the words in the list."
   ]
  },
  {
   "cell_type": "code",
   "execution_count": 85,
   "metadata": {},
   "outputs": [
    {
     "name": "stdout",
     "output_type": "stream",
     "text": [
      "Enter elements: I work at ineuron\n",
      "List of words :  ['I', 'work', 'at', 'ineuron']\n",
      "List of numbers : [1, 4, 2, 7]\n"
     ]
    }
   ],
   "source": [
    "def map_to_lengths_for(words):\n",
    "    lengths = []\n",
    "    for word in words:\n",
    "        lengths.append(len(word))\n",
    "    return lengths\n",
    "\n",
    "if __name__ == \"__main__\":\n",
    "    for i in range(1): \n",
    "        ele = input(\"Enter elements: \")\n",
    "        list1.append(ele)\n",
    "    print (\"List of words : \", words) \n",
    "    print (\"List of numbers :\", map_to_lengths_for(words))    "
   ]
  },
  {
   "cell_type": "markdown",
   "metadata": {},
   "source": [
    "=========================================================================================================================\n",
    "\n",
    "#### 2.2 Write a Python function which takes a character (i.e. a string of length 1) and returns True if it is a vowel, False otherwise."
   ]
  },
  {
   "cell_type": "code",
   "execution_count": 130,
   "metadata": {},
   "outputs": [
    {
     "name": "stdout",
     "output_type": "stream",
     "text": [
      "a\n",
      "True\n"
     ]
    }
   ],
   "source": [
    "def is_vowel(char):\n",
    "    all_vowels = 'aeiouAEIOU'\n",
    "    return char in all_vowels\n",
    "b = input (\"\")[0]\n",
    "if len(b)>1 :\n",
    "    print(\"jbjc\")\n",
    "else:\n",
    "    print(is_vowel(b))"
   ]
  }
 ],
 "metadata": {
  "kernelspec": {
   "display_name": "Python 3",
   "language": "python",
   "name": "python3"
  },
  "language_info": {
   "codemirror_mode": {
    "name": "ipython",
    "version": 3
   },
   "file_extension": ".py",
   "mimetype": "text/x-python",
   "name": "python",
   "nbconvert_exporter": "python",
   "pygments_lexer": "ipython3",
   "version": "3.7.9"
  }
 },
 "nbformat": 4,
 "nbformat_minor": 4
}
